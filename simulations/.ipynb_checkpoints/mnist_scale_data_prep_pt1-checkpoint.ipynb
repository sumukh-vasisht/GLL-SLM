{
 "cells": [
  {
   "cell_type": "markdown",
   "id": "df397ee6-4a91-4262-a912-580dc537c913",
   "metadata": {},
   "source": [
    "<h2>IMPORTS</h2>"
   ]
  },
  {
   "cell_type": "code",
   "execution_count": null,
   "id": "40f01752-15ef-4d6b-8241-134fe9e67aaf",
   "metadata": {},
   "outputs": [],
   "source": [
    "import os\n",
    "import random\n",
    "import hashlib\n",
    "from glob import glob\n",
    "\n",
    "import numpy as np\n",
    "from sklearn.model_selection import train_test_split\n",
    "\n",
    "from torch.utils.data import DataLoader, ConcatDataset\n",
    "from torchvision import datasets, transforms\n",
    "\n",
    "from argparse import ArgumentParser\n",
    "\n",
    "import warnings\n",
    "warnings.filterwarnings('ignore')"
   ]
  },
  {
   "cell_type": "markdown",
   "id": "d8a76bae-fba6-4439-b612-9526f8fa9699",
   "metadata": {},
   "source": [
    "<h2>SUPPORTING FUNCTIONS</h2>"
   ]
  },
  {
   "cell_type": "code",
   "execution_count": null,
   "id": "f9dc957d-50ba-4e85-a535-9661ea8f2758",
   "metadata": {},
   "outputs": [],
   "source": [
    "def _save_images_to_folder(dataset, transform, path, split_name, idx, format_='.png'):\n",
    "    scales = {}\n",
    "    for el in dataset:\n",
    "        img = transform(el[0])\n",
    "        out = os.path.join(path, split_name, str(el[1]))\n",
    "        if not os.path.exists(out):\n",
    "            os.makedirs(out)\n",
    "        img_path = os.path.join(out, str(idx) + format_)\n",
    "        img.save(img_path)\n",
    "        idx += 1\n",
    "    return idx"
   ]
  },
  {
   "cell_type": "markdown",
   "id": "04c088cf-e749-4edc-bb62-0c233066bcbd",
   "metadata": {},
   "source": [
    "<h2>ARGUMENTS</h2>"
   ]
  },
  {
   "cell_type": "code",
   "execution_count": null,
   "id": "b1d893c7-7c9b-45cc-b1a8-70b941424afb",
   "metadata": {},
   "outputs": [],
   "source": [
    "# PATHS\n",
    "MNIST_DIR = 'datasets/'\n",
    "MNIST_SCALE_DIR = 'datasets/'\n",
    "\n",
    "# SCALE VALUES\n",
    "min_scale = 0.3\n",
    "max_scale = 1.0\n",
    "\n",
    "scales = [0.3, 0.5, 0.7]\n",
    "\n",
    "# SEED VALUES\n",
    "seeds = [0, 1, 2, 3, 4, 5]\n",
    "\n",
    "BUF_SIZE = 65536\n",
    "\n",
    "# TRAIN_VAL_TEST SIZE\n",
    "MNIST_TRAIN_SIZE = 100\n",
    "MNIST_VAL_SIZE = 20\n",
    "MNIST_TEST_SIZE = 50\n",
    "\n",
    "transform = transforms.RandomAffine(0, scale=(min_scale, max_scale))\n",
    "\n",
    "source = 'datasets/'\n",
    "dest = 'datasets/'\n",
    "\n",
    "download = True"
   ]
  },
  {
   "cell_type": "markdown",
   "id": "41c08cd3-fd5f-4e79-a393-d234260c26a9",
   "metadata": {},
   "source": [
    "<h2>DOWNLOAD DATASET</h2>"
   ]
  },
  {
   "cell_type": "code",
   "execution_count": null,
   "id": "87598a20-2e53-42a5-8d88-bf92d96e09f6",
   "metadata": {
    "tags": []
   },
   "outputs": [],
   "source": [
    "for seed in seeds:\n",
    "    \n",
    "    for min_scale in scales:\n",
    "    \n",
    "        print('Seed: ', seed)\n",
    "        print('min_scale: ', min_scale)\n",
    "\n",
    "        np.random.seed(seed)\n",
    "        random.seed(seed)\n",
    "\n",
    "        dataset_train = datasets.MNIST(root=source, train=True, download=download)\n",
    "        dataset_test = datasets.MNIST(root=source, train=False, download=download)\n",
    "        concat_dataset = ConcatDataset([dataset_train, dataset_test])\n",
    "\n",
    "        labels = [el[1] for el in concat_dataset]\n",
    "        train_val_size = MNIST_TRAIN_SIZE + MNIST_VAL_SIZE\n",
    "        train_val, test = train_test_split(concat_dataset, train_size=train_val_size,\n",
    "                                               test_size=MNIST_TEST_SIZE, stratify=labels)\n",
    "\n",
    "        labels = [el[1] for el in train_val]\n",
    "        train, val = train_test_split(train_val, train_size=MNIST_TRAIN_SIZE,\n",
    "                                          test_size=MNIST_VAL_SIZE, stratify=labels)\n",
    "\n",
    "        dataset_path = os.path.join(dest, 'MNIST_scale', \"seed_{}\".format(seed))\n",
    "        dataset_path = os.path.join(dataset_path, \"scale_{}_{}\".format(min_scale, max_scale))\n",
    "        print('OUTPUT: {}'.format(dataset_path))\n",
    "\n",
    "        idx = _save_images_to_folder(train, transform, dataset_path, 'train', 0, '.png')\n",
    "        idx = _save_images_to_folder(test, transform, dataset_path, 'test', idx, '.png')\n",
    "        idx = _save_images_to_folder(val, transform, dataset_path, 'val', idx, '.png')"
   ]
  },
  {
   "cell_type": "code",
   "execution_count": null,
   "id": "93012e70-8e75-4632-9ec6-f14adfacccc8",
   "metadata": {},
   "outputs": [],
   "source": []
  }
 ],
 "metadata": {
  "kernelspec": {
   "display_name": "Python 3 (ipykernel)",
   "language": "python",
   "name": "python3"
  },
  "language_info": {
   "codemirror_mode": {
    "name": "ipython",
    "version": 3
   },
   "file_extension": ".py",
   "mimetype": "text/x-python",
   "name": "python",
   "nbconvert_exporter": "python",
   "pygments_lexer": "ipython3",
   "version": "3.8.3rc1"
  }
 },
 "nbformat": 4,
 "nbformat_minor": 5
}
