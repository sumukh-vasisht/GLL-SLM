{
 "cells": [
  {
   "cell_type": "markdown",
   "id": "f8f844bb-2c9f-4c8d-a5e9-7f27106cf5f5",
   "metadata": {},
   "source": [
    "<h2>IMPORTS</h2>"
   ]
  },
  {
   "cell_type": "code",
   "execution_count": null,
   "id": "140bbada-fa9b-43a4-8bf7-345c7e774b80",
   "metadata": {},
   "outputs": [],
   "source": [
    "import numpy as np\n",
    "import os\n",
    "import pandas as pd\n",
    "import pickle\n",
    "import torch\n",
    "from tqdm import tqdm\n",
    "\n",
    "import matplotlib.pyplot as plt\n",
    "\n",
    "import warnings\n",
    "warnings.filterwarnings('ignore')"
   ]
  },
  {
   "cell_type": "markdown",
   "id": "edb62b00-414a-4c8d-8b62-e547b72ec564",
   "metadata": {},
   "source": [
    "<h2>FUNCTIONS</h2>"
   ]
  },
  {
   "cell_type": "code",
   "execution_count": null,
   "id": "2af681cb-c94e-4d8f-b15b-a1c788c77738",
   "metadata": {},
   "outputs": [],
   "source": [
    "temperature_files = []\n",
    "height_files = []\n",
    "\n",
    "for i in range(400):\n",
    "    if(i not in indexes):\n",
    "        temperature_files.append('temp/T_' + str(i) + '.csv')\n",
    "        height_files.append('temp/h_' + str(i) + '.csv')"
   ]
  },
  {
   "cell_type": "code",
   "execution_count": null,
   "id": "39da5cf4-6183-4595-ba56-db2f3bfd4f4f",
   "metadata": {},
   "outputs": [],
   "source": [
    "temperature_data = []\n",
    "height_data = []\n",
    "\n",
    "for temperature_file in tqdm(temperature_files):\n",
    "    data = pd.read_csv(temperature_file, header = None)\n",
    "    temperature_data.append(data)\n",
    "    \n",
    "for height_file in tqdm(height_files):\n",
    "    data = pd.read_csv(height_file, header = None)\n",
    "    height_data.append(data)"
   ]
  },
  {
   "cell_type": "code",
   "execution_count": null,
   "id": "699aafed-11b4-4e34-b468-fc8b598447eb",
   "metadata": {},
   "outputs": [],
   "source": [
    "temperature_tensor = torch.tensor(np.array(temperature_data))\n",
    "height_tensor = torch.tensor(np.array(height_data))\n",
    "\n",
    "torch.save(temperature_tensor, 'temp/temperature_tensor.pt')\n",
    "torch.save(height_tensor, 'temp/height_tensor.pt')"
   ]
  },
  {
   "cell_type": "markdown",
   "id": "c0515ee6-5656-4283-9fc7-02c3a6fb6024",
   "metadata": {},
   "source": [
    "<h2>READ TENSORS</h2>"
   ]
  },
  {
   "cell_type": "code",
   "execution_count": null,
   "id": "87399084-c91a-4bb2-9c66-acd3272b43fb",
   "metadata": {},
   "outputs": [],
   "source": [
    "temperature_tensor = torch.load('temp/temperature_tensor.pt')\n",
    "height_tensor = torch.load('temp/height_tensor.pt')"
   ]
  },
  {
   "cell_type": "markdown",
   "id": "7f4cbc12-166f-4c0f-8f55-c764e3b2c297",
   "metadata": {},
   "source": [
    "<h2>EXAMPLE VISUALIZATIONS</h2>"
   ]
  },
  {
   "cell_type": "code",
   "execution_count": null,
   "id": "de19728b-0953-4f34-bc3b-7844fb3c270b",
   "metadata": {},
   "outputs": [],
   "source": [
    "plt.imshow(temperature_tensor[300], cmap='hot', interpolation='nearest')\n",
    "plt.title('Temperature')\n",
    "plt.colorbar()\n",
    "plt.show()\n",
    "plt.imshow(height_tensor[300], cmap='hot', interpolation='nearest')\n",
    "plt.title('Height')\n",
    "plt.colorbar()\n",
    "plt.show()"
   ]
  },
  {
   "cell_type": "markdown",
   "id": "3f85c21a-93d1-4d93-a7e0-a7729ac13c5c",
   "metadata": {},
   "source": [
    "<h2>NORMALIZATION</h2>"
   ]
  },
  {
   "cell_type": "code",
   "execution_count": null,
   "id": "5e1c6692-559e-41f5-8268-c84aea10acfa",
   "metadata": {},
   "outputs": [],
   "source": [
    "for i in range(len(height_tensor)):\n",
    "    height_tensor[i] = torch.mul(height_tensor[i], 1000000000)"
   ]
  },
  {
   "cell_type": "code",
   "execution_count": null,
   "id": "6f848437-9fed-4db6-bc39-0a657a36b63a",
   "metadata": {
    "tags": []
   },
   "outputs": [],
   "source": [
    "indexes = []\n",
    "for i in range(len(height_tensor)):\n",
    "    mean = height_tensor[i].mean()\n",
    "    # print(mean.numpy())\n",
    "    if(mean.numpy()>110):\n",
    "        indexes.append(i)\n",
    "    elif(mean.numpy()>80):\n",
    "        continue\n",
    "    else:\n",
    "        indexes.append(i)"
   ]
  },
  {
   "cell_type": "code",
   "execution_count": null,
   "id": "37b4fc3d-a9c6-44a4-955e-fb7dd288f8c7",
   "metadata": {
    "tags": []
   },
   "outputs": [],
   "source": [
    "indexes"
   ]
  },
  {
   "cell_type": "code",
   "execution_count": null,
   "id": "14028188-860d-4657-8543-7f4b112be559",
   "metadata": {},
   "outputs": [],
   "source": [
    "t_mean = temperature_tensor.mean()\n",
    "print(t_mean)\n",
    "t_std = temperature_tensor.std()\n",
    "print(t_std)\n",
    "normalized_t_tensor = ((temperature_tensor - t_mean)/t_std).float()\n",
    "\n",
    "h_mean = height_tensor.mean()\n",
    "print(h_mean)\n",
    "h_std = height_tensor.std()\n",
    "print(h_std)\n",
    "normalized_h_tensor = ((height_tensor - h_mean)/h_std).float()"
   ]
  },
  {
   "cell_type": "code",
   "execution_count": null,
   "id": "eac79934-9cd1-49e0-9852-12c48504fba2",
   "metadata": {},
   "outputs": [],
   "source": [
    "torch.save(normalized_t_tensor, 'temp/normalized_temperature_tensor.pt')\n",
    "torch.save(normalized_h_tensor, 'temp/normalized_height_tensor.pt')"
   ]
  },
  {
   "cell_type": "markdown",
   "id": "60db9c03-26ee-46cc-96e6-5de260053601",
   "metadata": {},
   "source": [
    "<h2>INDIVIDUAL CSV FILES TO PT</h2>"
   ]
  },
  {
   "cell_type": "code",
   "execution_count": null,
   "id": "ebc7088c-9559-4736-af9f-5a96d70ff51c",
   "metadata": {},
   "outputs": [],
   "source": [
    "count = 0\n",
    "\n",
    "for tensor in tqdm(normalized_t_tensor):\n",
    "    path = 'simulated_data/T_' + str(count) + '.pt'\n",
    "    torch.save(tensor, path)\n",
    "    count += 1"
   ]
  },
  {
   "cell_type": "code",
   "execution_count": null,
   "id": "c8a66b82-1fad-4845-b463-e7d6545aabb2",
   "metadata": {},
   "outputs": [],
   "source": [
    "count = 0\n",
    "\n",
    "for tensor in tqdm(normalized_h_tensor):\n",
    "    path = 'simulated_data/h_' + str(count) + '.pt'\n",
    "    torch.save(tensor, path)\n",
    "    count += 1"
   ]
  },
  {
   "cell_type": "code",
   "execution_count": null,
   "id": "abc01110-a57b-4891-962e-777813ef9bda",
   "metadata": {},
   "outputs": [],
   "source": []
  }
 ],
 "metadata": {
  "kernelspec": {
   "display_name": "Python 3 (ipykernel)",
   "language": "python",
   "name": "python3"
  },
  "language_info": {
   "codemirror_mode": {
    "name": "ipython",
    "version": 3
   },
   "file_extension": ".py",
   "mimetype": "text/x-python",
   "name": "python",
   "nbconvert_exporter": "python",
   "pygments_lexer": "ipython3",
   "version": "3.8.3rc1"
  }
 },
 "nbformat": 4,
 "nbformat_minor": 5
}
