{
 "cells": [
  {
   "cell_type": "markdown",
   "id": "2c329ab4-acd1-4999-8d4c-a55821e9b5ea",
   "metadata": {},
   "source": [
    "<h2>IMPORTS</h2>"
   ]
  },
  {
   "cell_type": "code",
   "execution_count": null,
   "id": "c5d6d449-d6a8-4254-9642-52161b697670",
   "metadata": {},
   "outputs": [],
   "source": [
    "import warnings\n",
    "warnings.filterwarnings('ignore')\n",
    "\n",
    "import os\n",
    "import shutil\n",
    "import time\n",
    "from argparse import ArgumentParser\n",
    "import numpy as np\n",
    "import sys\n",
    "import json\n",
    "\n",
    "import torch\n",
    "import torch.optim as optim\n",
    "import torch.backends.cudnn as cudnn\n",
    "from PIL import Image\n",
    "\n",
    "import models\n",
    "from utils.train_utils import train_xent, test_acc\n",
    "from utils import loaders\n",
    "from utils.model_utils import get_num_parameters\n",
    "from utils.misc import dump_list_element_1line\n",
    "from torchvision import datasets, transforms\n",
    "\n",
    "from torch.utils import data\n",
    "from torchsummary import summary\n",
    "\n",
    "from tqdm import tqdm"
   ]
  },
  {
   "cell_type": "markdown",
   "id": "5aeab279-43b5-4c04-b7ca-c6160dedd9d7",
   "metadata": {},
   "source": [
    "<h2>ARGUMENTS</h2>"
   ]
  },
  {
   "cell_type": "code",
   "execution_count": null,
   "id": "4b1eae0a-0fc7-4233-8973-fbc11a6303af",
   "metadata": {},
   "outputs": [],
   "source": [
    "batch_size = 8\n",
    "epochs = 1\n",
    "\n",
    "optimizer = 'adam'\n",
    "momentum = 0.9\n",
    "nesterov = False\n",
    "decay = 0.0001\n",
    "lr = 0.01\n",
    "lr_steps = [20, 40]\n",
    "lr_gamma = 0.1\n",
    "\n",
    "# model = model_names\n",
    "extra_scaling = 1.0\n",
    "save_model_path = 'saved_models/trial_1.pt'\n",
    "tag = ''\n",
    "data_dir = 'simulated_data'\n",
    "\n",
    "use_cuda = True\n",
    "# data_dir = 'datasets/MNIST_scale/seed_0/scale_0.3_1.0/'"
   ]
  },
  {
   "cell_type": "code",
   "execution_count": null,
   "id": "2312bb31-b358-4e6e-b290-fe264e802fb9",
   "metadata": {},
   "outputs": [],
   "source": [
    "use_cuda = use_cuda and torch.cuda.is_available()\n",
    "device = torch.device('cuda' if use_cuda else 'cpu')\n",
    "print('Device: {}'.format(device))"
   ]
  },
  {
   "cell_type": "markdown",
   "id": "d4e4f2b1-59dc-4396-8174-4535e6fe0d21",
   "metadata": {},
   "source": [
    "<h2>DATA LOADER</h2>"
   ]
  },
  {
   "cell_type": "code",
   "execution_count": null,
   "id": "b5ad4086-7653-4098-93b5-fcfacbf0262a",
   "metadata": {},
   "outputs": [],
   "source": [
    "class Dataset(data.Dataset):\n",
    "    def __init__(self, indices, direc):\n",
    "        self.list_IDs = indices\n",
    "        self.direc = direc\n",
    "      \n",
    "    def __len__(self):\n",
    "        return len(self.list_IDs)\n",
    "    \n",
    "    def __getitem__(self, index):\n",
    "        ID = self.list_IDs[index]\n",
    "        x = torch.load(self.direc + 'h_' + str(ID) + '.pt')\n",
    "        y = torch.load(self.direc + 'T_' + str(ID) + '.pt')\n",
    "            \n",
    "        return x.float(), y.float()"
   ]
  },
  {
   "cell_type": "code",
   "execution_count": null,
   "id": "845b3c06-84a9-427e-bf01-5dfa491e9d9c",
   "metadata": {},
   "outputs": [],
   "source": [
    "batch_size = 8\n",
    "\n",
    "print(batch_size)\n",
    "\n",
    "train_direc = 'simulated_data/'\n",
    "valid_direc = 'simulated_data/'\n",
    "test_direc = 'simulated_data/'\n",
    "\n",
    "train_indices = list(range(0, 1))\n",
    "valid_indices = list(range(0, 1))\n",
    "test_indices = list(range(0, 1))\n",
    "\n",
    "''' Load Data '''\n",
    "\n",
    "train_set = Dataset(train_indices, train_direc)\n",
    "valid_set = Dataset(valid_indices, valid_direc)\n",
    "test_set = Dataset(test_indices, test_direc)\n",
    "\n",
    "train_loader = data.DataLoader(train_set, batch_size = batch_size, shuffle = True, num_workers = 0)\n",
    "valid_loader = data.DataLoader(valid_set, batch_size = batch_size, shuffle = True, num_workers = 0)\n",
    "test_loader = data.DataLoader(test_set, batch_size = batch_size, shuffle = False, num_workers = 0)"
   ]
  },
  {
   "cell_type": "markdown",
   "id": "fdd82172-9558-42c0-ae1e-051fa06aebac",
   "metadata": {},
   "source": [
    "<h2>LOAD MODEL</h2>"
   ]
  },
  {
   "cell_type": "code",
   "execution_count": null,
   "id": "f2855bec-4c10-4f36-a5ab-f5d9131e571f",
   "metadata": {
    "tags": []
   },
   "outputs": [],
   "source": [
    "model = models.__dict__['mnist_ses_scalar_200']\n",
    "model = model()\n",
    "print('\\nModel:')\n",
    "print(model)\n",
    "print()"
   ]
  },
  {
   "cell_type": "code",
   "execution_count": null,
   "id": "68959530-d33b-4237-81ba-a30da2db338d",
   "metadata": {},
   "outputs": [],
   "source": [
    "if use_cuda:\n",
    "    cudnn.enabled = True\n",
    "    cudnn.benchmark = True\n",
    "    print('CUDNN is enabled. CUDNN benchmark is enabled')\n",
    "    model.cuda()"
   ]
  },
  {
   "cell_type": "code",
   "execution_count": null,
   "id": "997323f2-2381-4d9b-8f94-081dd390027d",
   "metadata": {},
   "outputs": [],
   "source": [
    "print('num_params:', get_num_parameters(model))\n",
    "print(flush=True)"
   ]
  },
  {
   "cell_type": "code",
   "execution_count": null,
   "id": "d4766097-71fc-4a3b-b83e-cb4fe69b1c19",
   "metadata": {
    "tags": []
   },
   "outputs": [],
   "source": [
    "summary(model, (1, 200, 200))"
   ]
  },
  {
   "cell_type": "code",
   "execution_count": null,
   "id": "07cb6099-f006-425a-9fed-902d3a1398e1",
   "metadata": {},
   "outputs": [],
   "source": [
    "device = torch.device('cuda' if torch.cuda.is_available() else 'cpu')\n",
    "print('Device: {}'.format(device))"
   ]
  },
  {
   "cell_type": "code",
   "execution_count": null,
   "id": "b610141d-b7af-41b4-b5c9-e7df7092b773",
   "metadata": {},
   "outputs": [],
   "source": [
    "parameters = filter(lambda x: x.requires_grad, model.parameters())\n",
    "parameters"
   ]
  },
  {
   "cell_type": "code",
   "execution_count": null,
   "id": "e7b5af70-27ab-4546-af9a-11249666ba87",
   "metadata": {},
   "outputs": [],
   "source": [
    "if optimizer == 'adam':\n",
    "    optimizer = optim.Adam(parameters, lr=lr)\n",
    "optimizer"
   ]
  },
  {
   "cell_type": "code",
   "execution_count": null,
   "id": "7ffd1e4e-23f1-40b1-91c0-0a6789714074",
   "metadata": {},
   "outputs": [],
   "source": [
    "lr_scheduler = optim.lr_scheduler.MultiStepLR(optimizer, lr_steps, lr_gamma)\n",
    "lr_scheduler"
   ]
  },
  {
   "cell_type": "code",
   "execution_count": null,
   "id": "27e5eb33-9c32-46f9-be29-057226a340eb",
   "metadata": {},
   "outputs": [],
   "source": [
    "loss_fun = torch.nn.MSELoss()"
   ]
  },
  {
   "cell_type": "code",
   "execution_count": null,
   "id": "3c7ea949-f5d3-462d-884d-c76ac305a187",
   "metadata": {},
   "outputs": [],
   "source": [
    "print('\\nTraining\\n' + '-' * 30)"
   ]
  },
  {
   "cell_type": "code",
   "execution_count": null,
   "id": "74439c32-b5c5-4a84-adde-a301e4acaf10",
   "metadata": {},
   "outputs": [],
   "source": [
    "n_epochs = 60\n",
    "train_mse = []"
   ]
  },
  {
   "cell_type": "code",
   "execution_count": null,
   "id": "0b895180-5611-4d45-949b-0a3af73fd67c",
   "metadata": {},
   "outputs": [],
   "source": [
    "''' Train epoch function '''\n",
    "\n",
    "def train_epoch(train_loader, model, optimizer, loss_function):\n",
    "    train_mse = []\n",
    "    for xx, yy in train_loader:\n",
    "        xx = xx.to(device)\n",
    "        yy = yy.to(device)\n",
    "        \n",
    "        xx = xx.unsqueeze(1)\n",
    "        yy = yy.unsqueeze(1)\n",
    "        \n",
    "        # print(xx.shape, yy.shape)\n",
    "        loss = 0\n",
    "        ims = []\n",
    "        for y in yy.transpose(0,1):\n",
    "            im = model(xx)\n",
    "            im = im.squeeze(1)\n",
    "            # print('im: ', im.shape)\n",
    "            # print('y: ', y.shape)\n",
    "            im = im.unsqueeze(1)\n",
    "            xx = torch.cat([xx[:, 2:], im], 1)\n",
    "            loss += loss_function(im, y)\n",
    "        train_mse.append(loss.item()/yy.shape[1]) \n",
    "        optimizer.zero_grad()\n",
    "        loss.backward()\n",
    "        optimizer.step()\n",
    "\n",
    "    train_mse = round(np.sqrt(np.mean(train_mse)),5)\n",
    "    return train_mse"
   ]
  },
  {
   "cell_type": "code",
   "execution_count": null,
   "id": "91aeb7b8-bddd-4574-a56e-6c28ef12a6f4",
   "metadata": {},
   "outputs": [],
   "source": [
    "''' Eval epoch function '''\n",
    "\n",
    "def eval_epoch(valid_loader, model, loss_function):\n",
    "    valid_mse = []\n",
    "    preds = []\n",
    "    trues = []\n",
    "    with torch.no_grad():\n",
    "        for xx, yy in valid_loader:\n",
    "            xx = xx.to(device)\n",
    "            yy = yy.to(device)\n",
    "\n",
    "            xx = xx.unsqueeze(1)\n",
    "            yy = yy.unsqueeze(1)\n",
    "\n",
    "            loss = 0\n",
    "            ims = []\n",
    "            for y in yy.transpose(0, 1):\n",
    "                # y = y.unsqueeze(1)\n",
    "                im = model(xx)\n",
    "                im = im.squeeze(1)\n",
    "                im = im.unsqueeze(1)\n",
    "                xx = torch.cat([xx[:, 2:], im], 1)\n",
    "                loss += loss_function(im, y)\n",
    "                ims.append(im.unsqueeze(1).cpu().data.numpy())\n",
    "                \n",
    "            ims = np.concatenate(ims, axis = 1)\n",
    "            preds.append(ims)\n",
    "            trues.append(yy.cpu().data.numpy())\n",
    "            valid_mse.append(loss.item()/yy.shape[1])\n",
    "        preds = np.concatenate(preds, axis = 0)  \n",
    "        trues = np.concatenate(trues, axis = 0)  \n",
    "        valid_mse = round(np.sqrt(np.mean(valid_mse)), 5)\n",
    "    return valid_mse, preds, trues"
   ]
  },
  {
   "cell_type": "code",
   "execution_count": null,
   "id": "1d65140d-161e-4a90-ad9f-a679c1d91746",
   "metadata": {},
   "outputs": [],
   "source": [
    "''' Test epoch function '''\n",
    "\n",
    "def test_epoch(valid_loader, model, loss_function):\n",
    "    valid_mse = []\n",
    "    preds = []\n",
    "    trues = []\n",
    "    with torch.no_grad():\n",
    "        loss_curve = []\n",
    "        for xx, yy in valid_loader:\n",
    "            xx = xx.to(device)\n",
    "            yy = yy.to(device)\n",
    "\n",
    "            xx = xx.unsqueeze(1)\n",
    "            yy = yy.unsqueeze(1)\n",
    "\n",
    "            loss = 0\n",
    "            ims = []\n",
    "            \n",
    "            for y in yy.transpose(0, 1):\n",
    "                # y = y.unsqueeze(1)\n",
    "                im = model(xx)\n",
    "                im = im.squeeze(1)\n",
    "                im = im.unsqueeze(1)\n",
    "                xx = torch.cat([xx[:, 2:], im], 1)\n",
    "                mse = loss_function(im, y)\n",
    "                loss += mse\n",
    "                loss_curve.append(mse.item())\n",
    "                ims.append(im.unsqueeze(1).cpu().data.numpy())\n",
    "           \n",
    "            ims = np.concatenate(ims, axis = 1)\n",
    "            preds.append(ims)\n",
    "            trues.append(yy.cpu().data.numpy())\n",
    "            valid_mse.append(loss.item()/yy.shape[1])\n",
    "            \n",
    "        loss_curve = np.array(loss_curve).reshape(-1,yy.shape[1])\n",
    "        preds = np.concatenate(preds, axis = 0)  \n",
    "        trues = np.concatenate(trues, axis = 0)  \n",
    "        valid_mse = np.mean(valid_mse)\n",
    "        loss_curve = np.sqrt(np.mean(loss_curve, axis = 0))\n",
    "    return valid_mse, preds, trues, loss_curve"
   ]
  },
  {
   "cell_type": "code",
   "execution_count": null,
   "id": "8dc8c8f6-44c0-426d-b929-c314d25af191",
   "metadata": {},
   "outputs": [],
   "source": [
    "train_mse = []\n",
    "valid_mse = []\n",
    "test_mse = []\n",
    "times = []\n",
    "\n",
    "min_mse = 100\n",
    "\n",
    "n_epochs = 60"
   ]
  },
  {
   "cell_type": "code",
   "execution_count": null,
   "id": "d00aebe3-a4e2-49e0-855e-a3fcdeb70b75",
   "metadata": {
    "tags": []
   },
   "outputs": [],
   "source": [
    "for i in tqdm(range(n_epochs)):\n",
    "\n",
    "    print('EPOCH: ', i+1)\n",
    "\n",
    "    start = time.time()\n",
    "    optimizer.step()\n",
    "\n",
    "    model.train()\n",
    "    print('Model trained')\n",
    "\n",
    "    train_mse.append(train_epoch(train_loader, model, optimizer, loss_fun))\n",
    "    model.eval()\n",
    "    mse, _, _ = eval_epoch(valid_loader, model, loss_fun)\n",
    "    valid_mse.append(mse)\n",
    "    \n",
    "    if valid_mse[-1] < min_mse:\n",
    "        min_mse = valid_mse[-1] \n",
    "        best_model = model\n",
    "\n",
    "    end = time.time()\n",
    "    \n",
    "    times.append(end-start)\n",
    "    \n",
    "    # Early Stopping but train at least for 50 epochs\n",
    "    # if (len(train_mse) > 50 and np.mean(valid_mse[-5:]) >= np.mean(valid_mse[-10:-5])):\n",
    "    #         break\n",
    "            \n",
    "    print('TRAIN MSE: ', train_mse[-1])\n",
    "    print('VALID MSE: ', valid_mse[-1])\n",
    "    print('TIME: ', end - start)\n",
    "    print('----------------------------------')\n",
    "\n",
    "test_mse, preds, trues, loss_curve = test_epoch(test_loader, best_model, loss_fun)"
   ]
  },
  {
   "cell_type": "code",
   "execution_count": null,
   "id": "a0a4239e-5e11-4996-802f-06b133ed29dc",
   "metadata": {},
   "outputs": [],
   "source": [
    "import matplotlib.pyplot as plt\n",
    "\n",
    "''' Plot Loss Curves '''\n",
    "\n",
    "plt.plot(train_mse, label='Train')\n",
    "# plt.plot(valid_mse, label='Valid')\n",
    "plt.xlabel('Epoch #')\n",
    "plt.ylabel('MSE')\n",
    "plt.title('MSE')\n",
    "plt.legend()\n",
    "plt.grid()\n",
    "plt.show()"
   ]
  },
  {
   "cell_type": "code",
   "execution_count": null,
   "id": "b0eb3b49-7651-4077-a0dc-52d210bdd68f",
   "metadata": {},
   "outputs": [],
   "source": [
    "import matplotlib.pyplot as plt\n",
    "\n",
    "for xx, yy in train_loader:\n",
    "    \n",
    "    xx = xx.unsqueeze(1).to(device=\"cuda\")\n",
    "    \n",
    "    pred = model(xx)\n",
    "    \n",
    "    plt.imshow(xx[0][0].cpu(), cmap = 'hot')\n",
    "    plt.title('Height')\n",
    "    plt.colorbar()\n",
    "    plt.show()\n",
    "    \n",
    "    plt.imshow(yy[0].cpu(), cmap = 'hot')\n",
    "    plt.title('Orig Temperature')\n",
    "    plt.colorbar()\n",
    "    plt.show()\n",
    "    \n",
    "    plt.imshow(pred[0][0].cpu().detach().numpy(), cmap = 'hot')\n",
    "    plt.title('Pred Temperature')\n",
    "    plt.colorbar()\n",
    "    plt.show()\n",
    "    \n",
    "    break"
   ]
  },
  {
   "cell_type": "code",
   "execution_count": null,
   "id": "b40c0644-48f5-4b36-8e5e-6bd34fd74f6f",
   "metadata": {},
   "outputs": [],
   "source": [
    "test_mse"
   ]
  },
  {
   "cell_type": "code",
   "execution_count": null,
   "id": "782895c7-e681-4cf9-ad40-0ce5f61c6dd5",
   "metadata": {},
   "outputs": [],
   "source": []
  }
 ],
 "metadata": {
  "kernelspec": {
   "display_name": "Python 3 (ipykernel)",
   "language": "python",
   "name": "python3"
  },
  "language_info": {
   "codemirror_mode": {
    "name": "ipython",
    "version": 3
   },
   "file_extension": ".py",
   "mimetype": "text/x-python",
   "name": "python",
   "nbconvert_exporter": "python",
   "pygments_lexer": "ipython3",
   "version": "3.8.3rc1"
  }
 },
 "nbformat": 4,
 "nbformat_minor": 5
}
